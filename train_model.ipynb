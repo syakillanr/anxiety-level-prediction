{
 "cells": [
  {
   "cell_type": "code",
   "execution_count": 23,
   "id": "63367135-7d68-44d6-b8a8-2956142cb2e5",
   "metadata": {
    "scrolled": true
   },
   "outputs": [
    {
     "name": "stdout",
     "output_type": "stream",
     "text": [
      "✅ Model saved as 'anxiety_rf_model.pkl'\n"
     ]
    }
   ],
   "source": [
    "import pandas as pd\n",
    "import joblib\n",
    "from sklearn.ensemble import RandomForestClassifier\n",
    "from sklearn.model_selection import train_test_split\n",
    "from sklearn.preprocessing import LabelEncoder\n",
    "\n",
    "# Load dataset\n",
    "df = pd.read_csv(\"enhanced_anxiety_dataset.csv\")\n",
    "\n",
    "# Encode categorical columns\n",
    "le = LabelEncoder()\n",
    "for col in df.select_dtypes(include='object').columns:\n",
    "    df[col] = le.fit_transform(df[col])\n",
    "\n",
    "# Select the 10 input features used in the Streamlit app\n",
    "selected_features = [\n",
    "    \"Age\", \"Sleep Hours\", \"Physical Activity (hrs/week)\", \"Caffeine Intake (mg/day)\",\n",
    "    \"Alcohol Consumption (drinks/week)\", \"Stress Level (1-10)\", \"Heart Rate (bpm)\",\n",
    "    \"Breathing Rate (breaths/min)\", \"Sweating Level (1-5)\", \"Diet Quality (1-10)\"\n",
    "]\n",
    "\n",
    "# Input and target\n",
    "X = df[selected_features]\n",
    "y = pd.cut(df[\"Anxiety Level (1-10)\"], bins=[0, 3, 6, 10], labels=[0, 1, 2])\n",
    "\n",
    "# Train-test split\n",
    "X_train, X_test, y_train, y_test = train_test_split(X, y, test_size=0.2, random_state=42)\n",
    "\n",
    "# Train Random Forest\n",
    "model = RandomForestClassifier(n_estimators=100, random_state=42)\n",
    "model.fit(X_train, y_train)\n",
    "\n",
    "# Save model and selected features\n",
    "joblib.dump((model, selected_features), \"anxiety_rf_model.pkl\")\n",
    "print(\"✅ Model saved as 'anxiety_rf_model.pkl'\")\n"
   ]
  },
  {
   "cell_type": "code",
   "execution_count": null,
   "id": "78d188fc-0f8c-4492-8480-9c6c1155fbe4",
   "metadata": {},
   "outputs": [],
   "source": []
  }
 ],
 "metadata": {
  "kernelspec": {
   "display_name": "Python [conda env:base] *",
   "language": "python",
   "name": "conda-base-py"
  },
  "language_info": {
   "codemirror_mode": {
    "name": "ipython",
    "version": 3
   },
   "file_extension": ".py",
   "mimetype": "text/x-python",
   "name": "python",
   "nbconvert_exporter": "python",
   "pygments_lexer": "ipython3",
   "version": "3.12.7"
  }
 },
 "nbformat": 4,
 "nbformat_minor": 5
}
