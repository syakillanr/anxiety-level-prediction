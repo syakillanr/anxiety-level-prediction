{
 "cells": [
  {
   "cell_type": "code",
   "execution_count": 12,
   "id": "63367135-7d68-44d6-b8a8-2956142cb2e5",
   "metadata": {},
   "outputs": [],
   "source": [
    "import streamlit as st\n",
    "import pandas as pd\n",
    "import joblib\n",
    "\n",
    "# Load model and feature names\n",
    "model, feature_names = joblib.load(\"anxiety_rf_model.pkl\")\n",
    "\n",
    "st.title(\"Smart City - Anxiety Risk Predictor\")\n",
    "st.write(\"This app predicts the anxiety risk level (Low, Moderate, High) based on individual inputs.\")\n",
    "\n",
    "# Input sliders\n",
    "age = st.slider(\"Age\", 10, 80, 25)\n",
    "sleep = st.slider(\"Sleep Hours\", 0.0, 12.0, 6.0)\n",
    "physical = st.slider(\"Physical Activity (hrs/week)\", 0.0, 15.0, 2.0)\n",
    "caffeine = st.slider(\"Caffeine Intake (mg/day)\", 0, 1000, 200)\n",
    "alcohol = st.slider(\"Alcohol Consumption (drinks/week)\", 0, 20, 2)\n",
    "stress = st.slider(\"Stress Level (1-10)\", 1, 10, 5)\n",
    "heart_rate = st.slider(\"Heart Rate (bpm)\", 50, 130, 80)\n",
    "breathing = st.slider(\"Breathing Rate (breaths/min)\", 10, 30, 18)\n",
    "sweating = st.slider(\"Sweating Level (1-5)\", 1, 5, 3)\n",
    "diet = st.slider(\"Diet Quality (1-10)\", 1, 10, 5)\n",
    "\n",
    "# Predict button\n",
    "if st.button(\"Predict Anxiety Level\"):\n",
    "    input_data = [[age, sleep, physical, caffeine, alcohol, stress, heart_rate, breathing, sweating, diet]]\n",
    "    input_df = pd.DataFrame(input_data, columns=feature_names)\n",
    "    prediction = model.predict(input_df)[0]\n",
    "    levels = {0: \"Low\", 1: \"Moderate\", 2: \"High\"}\n",
    "    st.success(f\"Predicted Anxiety Level: **{levels[prediction]}**\")\n"
   ]
  },
  {
   "cell_type": "code",
   "execution_count": null,
   "id": "78d188fc-0f8c-4492-8480-9c6c1155fbe4",
   "metadata": {},
   "outputs": [],
   "source": []
  }
 ],
 "metadata": {
  "kernelspec": {
   "display_name": "Python [conda env:base] *",
   "language": "python",
   "name": "conda-base-py"
  },
  "language_info": {
   "codemirror_mode": {
    "name": "ipython",
    "version": 3
   },
   "file_extension": ".py",
   "mimetype": "text/x-python",
   "name": "python",
   "nbconvert_exporter": "python",
   "pygments_lexer": "ipython3",
   "version": "3.12.7"
  }
 },
 "nbformat": 4,
 "nbformat_minor": 5
}
